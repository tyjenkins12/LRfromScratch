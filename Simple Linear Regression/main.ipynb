{
 "cells": [
  {
   "cell_type": "markdown",
   "metadata": {},
   "source": [
    "### Building a linear regression model from scratch"
   ]
  },
  {
   "cell_type": "code",
   "execution_count": 7,
   "metadata": {},
   "outputs": [],
   "source": [
    "import numpy as np\n",
    "\n",
    "# Preparing the data and extracting the necessary columns\n",
    "df = np.loadtxt(\"datasets/FuelConsumptionCo2.csv\", delimiter = \",\", dtype = str)\n",
    "eng_size = df[1:, 4]\n",
    "fuel_comb = df[1:, 10]\n",
    "co2 = df[1:, 12]"
   ]
  },
  {
   "cell_type": "markdown",
   "metadata": {},
   "source": [
    "## Training the model"
   ]
  },
  {
   "cell_type": "code",
   "execution_count": 8,
   "metadata": {},
   "outputs": [],
   "source": [
    "class LinearRegression:\n",
    "    weights = []\n",
    "    intercept = 0\n",
    "    def __init__(self):\n",
    "        self.weights = []\n",
    "        self.intercept = 0\n",
    "\n",
    "    ## Train the model by fitting the data\n",
    "    def fit(self, X, y):\n",
    "        y = y.astype('float64')\n",
    "        ms = []\n",
    "        for x in X:\n",
    "            x = x.astype('float64')\n",
    "            a = sum((x - np.mean(x)) * (y - np.mean(y))) / sum((x - np.mean(x)) ** 2)\n",
    "            self.weights.append(a)\n",
    "            ms.append(a * np.mean(x))\n",
    "        b = np.mean(y) - sum(ms)\n",
    "        self.intercept = b\n",
    "        print(self.weights)\n",
    "        print(self.intercept)\n",
    "\n",
    "    ## Here we will make the predictions\n",
    "    def predict(self, X):\n",
    "        ms = []\n",
    "        for i in range(len(self.weights)):\n",
    "            x = X[i].astype('float64')\n",
    "            ms.append(self.weights[i] * np.mean(x))\n",
    "        y = sum(ms) + self.intercept\n",
    "        print(y)"
   ]
  },
  {
   "cell_type": "markdown",
   "metadata": {},
   "source": [
    "## Running the model"
   ]
  },
  {
   "cell_type": "code",
   "execution_count": 9,
   "metadata": {},
   "outputs": [
    {
     "name": "stdout",
     "output_type": "stream",
     "text": [
      "[np.float64(39.12519978671172), np.float64(16.219970265234977)]\n",
      "-62.53744555942802\n",
      "256.2286785379569\n"
     ]
    }
   ],
   "source": [
    "l1 = LinearRegression()\n",
    "l1.fit(np.array([eng_size, fuel_comb]), co2)\n",
    "l1.predict(np.array([eng_size, fuel_comb]))"
   ]
  }
 ],
 "metadata": {
  "kernelspec": {
   "display_name": ".venv",
   "language": "python",
   "name": "python3"
  },
  "language_info": {
   "codemirror_mode": {
    "name": "ipython",
    "version": 3
   },
   "file_extension": ".py",
   "mimetype": "text/x-python",
   "name": "python",
   "nbconvert_exporter": "python",
   "pygments_lexer": "ipython3",
   "version": "3.13.7"
  }
 },
 "nbformat": 4,
 "nbformat_minor": 2
}
